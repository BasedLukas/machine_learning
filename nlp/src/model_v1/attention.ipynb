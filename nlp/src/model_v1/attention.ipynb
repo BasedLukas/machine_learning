{
 "cells": [
  {
   "cell_type": "code",
   "execution_count": 1,
   "metadata": {},
   "outputs": [],
   "source": [
    "from typing import List, Tuple, Dict, Set, Union, Any, cast, Optional\n",
    "import torch\n",
    "import torch.nn.functional as F\n",
    "import torch.nn as nn\n",
    "from torch.profiler import profile, record_function, ProfilerActivity\n",
    "import numpy as np\n",
    "import math\n",
    "from datasets import load_dataset\n",
    "from torch.utils.data import Dataset, DataLoader\n",
    "from transformers import BertTokenizer\n",
    "import matplotlib.pyplot as plt\n",
    "from torch.nn.functional import softmax\n",
    "from collections import Counter\n",
    "import os\n",
    "import pickle"
   ]
  },
  {
   "cell_type": "markdown",
   "metadata": {},
   "source": [
    "### Define dimensions and params\n",
    "* We use a simple character:token mapping\n",
    "* The embedding dim can be whatever you want, but because we later add the input to the attention output it is handy to keep them the same."
   ]
  },
  {
   "cell_type": "code",
   "execution_count": 2,
   "metadata": {},
   "outputs": [],
   "source": [
    "characters = list(' abcdefghijklmnopqrstuvwxyz')\n",
    "c_to_t = {c: i for i, c in enumerate(characters)}\n",
    "t_to_c = {i: c for i, c in enumerate(characters)}\n",
    "\n",
    "text = 'this will get truncatedHello world!'\n",
    "short_text = 'hello'\n",
    "vocab_size = len(characters)\n",
    "seq_len = 6\n",
    "embedding_size = 4\n",
    "attend_dim = embedding_size # not stictly speaking required, but makes things easier.\n",
    "hidden_size = 4 * embedding_size"
   ]
  },
  {
   "cell_type": "markdown",
   "metadata": {},
   "source": [
    "### Helper functions to prepare input\n",
    "* Note that the input will always be of a fixed size, it is truncated or padded as required\n",
    "* Our padding token 0 is equivalent to \" \" which is convenient."
   ]
  },
  {
   "cell_type": "code",
   "execution_count": 3,
   "metadata": {},
   "outputs": [],
   "source": [
    "def tokenize(text: str) -> List[int]:\n",
    "    text = text.lower()\n",
    "    text = ''.join([c for c in text if c in characters])\n",
    "    tokens = [c_to_t[c] for c in text]\n",
    "    padding = [0] * (seq_len - len(tokens))\n",
    "    tokens = padding + tokens\n",
    "    return tokens[-seq_len:]\n",
    "\n",
    "def decode(tokens: List[int]) -> str:\n",
    "    text = ''.join([t_to_c[t] for t in tokens])\n",
    "    text = text.strip(' ')\n",
    "    return text"
   ]
  },
  {
   "cell_type": "markdown",
   "metadata": {},
   "source": [
    "Examples\n",
    "* Note how the long text has been truncated. The short, padded."
   ]
  },
  {
   "cell_type": "code",
   "execution_count": 4,
   "metadata": {},
   "outputs": [
    {
     "name": "stdout",
     "output_type": "stream",
     "text": [
      "[0, 23, 15, 18, 12, 4]\n",
      "world\n",
      "[0, 8, 5, 12, 12, 15]\n",
      "hello\n"
     ]
    }
   ],
   "source": [
    "x = tokenize(text)\n",
    "decoded = decode(x)\n",
    "\n",
    "x2 = tokenize(short_text)\n",
    "decoded2 = decode(x2)\n",
    "\n",
    "print(x)\n",
    "print(decoded)\n",
    "print(x2)\n",
    "print(decoded2)"
   ]
  },
  {
   "cell_type": "markdown",
   "metadata": {},
   "source": [
    "### Embedding\n",
    "* Each input token is projected to embedding dim\n",
    "* We add a simple positional matrix to give the model information about the seq order"
   ]
  },
  {
   "cell_type": "code",
   "execution_count": 5,
   "metadata": {},
   "outputs": [
    {
     "name": "stdout",
     "output_type": "stream",
     "text": [
      "True\n"
     ]
    },
    {
     "data": {
      "text/plain": [
       "tensor([[-1.7979,  1.8933,  1.1957,  0.4932],\n",
       "        [-0.4770,  1.9857, -0.5362,  0.0761],\n",
       "        [-1.6390,  0.5282,  2.4518, -1.1400],\n",
       "        [ 0.3504, -1.1062, -1.3629,  1.7884],\n",
       "        [-0.2380, -1.9347,  4.6829,  1.2687],\n",
       "        [-1.6528,  1.0819, -1.9248, -0.0388]], grad_fn=<AddBackward0>)"
      ]
     },
     "execution_count": 5,
     "metadata": {},
     "output_type": "execute_result"
    }
   ],
   "source": [
    "embedding = nn.Embedding(vocab_size, embedding_size)\n",
    "position_embedding_table = nn.Embedding(seq_len, embedding_size)\n",
    "pos_emb = position_embedding_table(torch.arange(seq_len))\n",
    "\n",
    "embedded = embedding(torch.tensor(x))\n",
    "x = embedded + pos_emb\n",
    "\n",
    "print((x.shape[0], x.shape[1]) == (seq_len, embedding_size))\n",
    "x"
   ]
  },
  {
   "cell_type": "markdown",
   "metadata": {},
   "source": [
    "### The Q K V matrices\n",
    "* Each of the 3 matrices is created using their respective weight matrices, which are learned params"
   ]
  },
  {
   "cell_type": "code",
   "execution_count": 6,
   "metadata": {},
   "outputs": [
    {
     "data": {
      "text/plain": [
       "True"
      ]
     },
     "execution_count": 6,
     "metadata": {},
     "output_type": "execute_result"
    }
   ],
   "source": [
    "qw = nn.Parameter(torch.randn(embedding_size, attend_dim)*0.1)\n",
    "kw = nn.Parameter(torch.randn(embedding_size, attend_dim)*0.1)\n",
    "vw = nn.Parameter(torch.randn(embedding_size, attend_dim)*0.1)\n",
    "\n",
    "q = x @ qw\n",
    "k = x @ kw\n",
    "v = x @ vw\n",
    "\n",
    "(q.shape[0], q.shape[1]) == (seq_len, attend_dim)"
   ]
  },
  {
   "cell_type": "markdown",
   "metadata": {},
   "source": [
    "### The attention score\n",
    "* dot product of each row of q and k\n",
    "* Add an attention mask to stop tokens from looking ahead\n"
   ]
  },
  {
   "cell_type": "code",
   "execution_count": 7,
   "metadata": {},
   "outputs": [
    {
     "data": {
      "text/plain": [
       "tensor([[-0.1436,    -inf,    -inf,    -inf,    -inf,    -inf],\n",
       "        [-0.0120,  0.0390,    -inf,    -inf,    -inf,    -inf],\n",
       "        [-0.2057, -0.1787, -0.1311,    -inf,    -inf,    -inf],\n",
       "        [ 0.1084,  0.0694,  0.0896, -0.0651,    -inf,    -inf],\n",
       "        [-0.1738, -0.2328, -0.0738,  0.1702,  0.4470,    -inf],\n",
       "        [-0.0122,  0.0260, -0.0134, -0.0312, -0.0841,  0.0066]],\n",
       "       grad_fn=<MaskedFillBackward0>)"
      ]
     },
     "execution_count": 7,
     "metadata": {},
     "output_type": "execute_result"
    }
   ],
   "source": [
    "attention_scores = q @ k.T # shape: seq_len, seq_len \n",
    "attention_scores = attention_scores / math.sqrt(attend_dim)\n",
    "tril = torch.tril(torch.ones(seq_len, seq_len))\n",
    "attention_scores = attention_scores.masked_fill(tril == 0, float('-inf'))\n",
    "attention_scores"
   ]
  },
  {
   "cell_type": "markdown",
   "metadata": {},
   "source": [
    "### Softmax each row\n",
    "* each row represents the attention score of that position in the sequence\n",
    "* we softmax rows so that they sum to 1"
   ]
  },
  {
   "cell_type": "code",
   "execution_count": 8,
   "metadata": {},
   "outputs": [
    {
     "data": {
      "text/plain": [
       "tensor([[1.0000, 0.0000, 0.0000, 0.0000, 0.0000, 0.0000],\n",
       "        [0.4873, 0.5127, 0.0000, 0.0000, 0.0000, 0.0000],\n",
       "        [0.3221, 0.3309, 0.3470, 0.0000, 0.0000, 0.0000],\n",
       "        [0.2643, 0.2542, 0.2594, 0.2222, 0.0000, 0.0000],\n",
       "        [0.1583, 0.1492, 0.1749, 0.2232, 0.2944, 0.0000],\n",
       "        [0.1675, 0.1741, 0.1673, 0.1644, 0.1559, 0.1707]],\n",
       "       grad_fn=<SoftmaxBackward0>)"
      ]
     },
     "execution_count": 8,
     "metadata": {},
     "output_type": "execute_result"
    }
   ],
   "source": [
    "scaled_scores = attention_scores.softmax(dim=1)\n",
    "scaled_scores"
   ]
  },
  {
   "cell_type": "markdown",
   "metadata": {},
   "source": [
    "### Finally we use the attention scores\n"
   ]
  },
  {
   "cell_type": "code",
   "execution_count": 9,
   "metadata": {},
   "outputs": [
    {
     "data": {
      "text/plain": [
       "tensor([[-0.2847,  0.2462,  0.0232,  0.5764],\n",
       "        [-0.2495,  0.1855,  0.1669,  0.3882],\n",
       "        [-0.2152,  0.1882,  0.1061,  0.4189],\n",
       "        [-0.1320,  0.1102,  0.0016,  0.2920],\n",
       "        [-0.0676,  0.1275, -0.2507,  0.2108],\n",
       "        [-0.0887,  0.0887, -0.1002,  0.2695]], grad_fn=<MmBackward0>)"
      ]
     },
     "execution_count": 9,
     "metadata": {},
     "output_type": "execute_result"
    }
   ],
   "source": [
    "final = scaled_scores @ v # shape: seq_len, attend_dim @ seq_len, attend_dim -> seq_len, attend_dim\n",
    "final"
   ]
  },
  {
   "cell_type": "markdown",
   "metadata": {},
   "source": [
    "### Now the residual connection is added\n",
    "* If we had a different attention dim and embedding dim this would not be possible"
   ]
  },
  {
   "cell_type": "code",
   "execution_count": 10,
   "metadata": {},
   "outputs": [
    {
     "data": {
      "text/plain": [
       "tensor([[-2.0826,  2.1394,  1.2188,  1.0696],\n",
       "        [-0.7265,  2.1711, -0.3693,  0.4643],\n",
       "        [-1.8541,  0.7164,  2.5579, -0.7210],\n",
       "        [ 0.2184, -0.9961, -1.3614,  2.0804],\n",
       "        [-0.3057, -1.8072,  4.4321,  1.4795],\n",
       "        [-1.7416,  1.1706, -2.0249,  0.2306]], grad_fn=<AddBackward0>)"
      ]
     },
     "execution_count": 10,
     "metadata": {},
     "output_type": "execute_result"
    }
   ],
   "source": [
    "x = x + final\n",
    "x"
   ]
  },
  {
   "cell_type": "markdown",
   "metadata": {},
   "source": [
    "### Lets keep our values inside a reasonable range"
   ]
  },
  {
   "cell_type": "code",
   "execution_count": 11,
   "metadata": {},
   "outputs": [
    {
     "data": {
      "text/plain": [
       "tensor([[-1.6739,  0.9741,  0.3967,  0.3031],\n",
       "        [-0.9940,  1.5975, -0.6745,  0.0710],\n",
       "        [-1.2296,  0.3282,  1.4442, -0.5429],\n",
       "        [ 0.1735, -0.7305, -1.0024,  1.5593],\n",
       "        [-0.5404, -1.1868,  1.4991,  0.2281],\n",
       "        [-0.8598,  1.3171, -1.0717,  0.6144]],\n",
       "       grad_fn=<NativeLayerNormBackward0>)"
      ]
     },
     "execution_count": 11,
     "metadata": {},
     "output_type": "execute_result"
    }
   ],
   "source": [
    "ln = nn.LayerNorm(embedding_size)\n",
    "x = ln(x)\n",
    "x"
   ]
  },
  {
   "cell_type": "markdown",
   "metadata": {},
   "source": [
    "### Now pass through a ff network"
   ]
  },
  {
   "cell_type": "code",
   "execution_count": 12,
   "metadata": {},
   "outputs": [
    {
     "data": {
      "text/plain": [
       "tensor([[-1.6739,  0.9741,  0.3967,  0.3031],\n",
       "        [-0.9940,  1.8321, -0.9439, -0.1134],\n",
       "        [-1.9333,  0.3282,  1.0219, -0.2790],\n",
       "        [ 0.1735, -0.7305, -1.0024,  1.5593],\n",
       "        [-0.4419, -1.1868,  1.1029,  0.2281],\n",
       "        [-1.0300,  1.5588, -1.2678,  0.6144]], grad_fn=<AddBackward0>)"
      ]
     },
     "execution_count": 12,
     "metadata": {},
     "output_type": "execute_result"
    }
   ],
   "source": [
    "ff = nn.Sequential(\n",
    "    nn.Linear(embedding_size, hidden_size),\n",
    "    nn.ReLU(),\n",
    "    nn.Linear(hidden_size, embedding_size),\n",
    "    nn.Dropout()\n",
    ")\n",
    "\n",
    "x = x + ff(x)\n",
    "x"
   ]
  },
  {
   "cell_type": "markdown",
   "metadata": {},
   "source": [
    "### Once again normalize"
   ]
  },
  {
   "cell_type": "code",
   "execution_count": 13,
   "metadata": {},
   "outputs": [
    {
     "data": {
      "text/plain": [
       "tensor([[-1.6739,  0.9741,  0.3967,  0.3031],\n",
       "        [-0.8208,  1.6492, -0.7771, -0.0513],\n",
       "        [-1.5711,  0.4974,  1.1318, -0.0581],\n",
       "        [ 0.1735, -0.7305, -1.0024,  1.5593],\n",
       "        [-0.4353, -1.3178,  1.3948,  0.3584],\n",
       "        [-0.8540,  1.3594, -1.0574,  0.5520]],\n",
       "       grad_fn=<NativeLayerNormBackward0>)"
      ]
     },
     "execution_count": 13,
     "metadata": {},
     "output_type": "execute_result"
    }
   ],
   "source": [
    "ln2 = nn.LayerNorm(embedding_size)\n",
    "x = ln2(x)\n",
    "x"
   ]
  },
  {
   "cell_type": "markdown",
   "metadata": {},
   "source": [
    "## Multiheaded attention\n",
    "* Lets start by creating a head"
   ]
  },
  {
   "cell_type": "code",
   "execution_count": 14,
   "metadata": {},
   "outputs": [],
   "source": [
    "characters = list(' abcdefghijklmnopqrstuvwxyz')\n",
    "c_to_t = {c: i for i, c in enumerate(characters)}\n",
    "t_to_c = {i: c for i, c in enumerate(characters)}\n",
    "\n",
    "def tokenize(text: str) -> List[int]:\n",
    "    text = text.lower()\n",
    "    text = ''.join([c for c in text if c in characters])\n",
    "    tokens = [c_to_t[c] for c in text]\n",
    "    padding = [0] * (seq_len - len(tokens))\n",
    "    tokens = padding + tokens\n",
    "    return tokens[-seq_len:]\n",
    "\n",
    "def decode(tokens: List[int]) -> str:\n",
    "    text = ''.join([t_to_c[t] for t in tokens])\n",
    "    text = text.strip(' ')\n",
    "    return text"
   ]
  },
  {
   "cell_type": "code",
   "execution_count": 15,
   "metadata": {},
   "outputs": [],
   "source": [
    "class Head(nn.Module):\n",
    "    def __init__(self,seq_len, embedding_size, head_size) -> None:\n",
    "        super().__init__()\n",
    "        self.seq_len = seq_len\n",
    "        self.embedding_size = embedding_size\n",
    "        self.head_size = head_size\n",
    "        self.k  = nn.Linear(embedding_size, head_size, bias=False)\n",
    "        self.q  = nn.Linear(embedding_size, head_size, bias=False)\n",
    "        self.v  = nn.Linear(embedding_size, head_size, bias=False)\n",
    "        self.register_buffer('tril', torch.tril(torch.ones(seq_len, seq_len)))\n",
    "        self.dropout = nn.Dropout()\n",
    "\n",
    "    def forward(self, x: torch.Tensor) -> torch.Tensor:\n",
    "        k = self.k(x)\n",
    "        q = self.q(x)\n",
    "        v = self.v(x)\n",
    "        scores = q @ k.T\n",
    "        scores = scores / math.sqrt(self.head_size)\n",
    "        scores = scores.masked_fill(self.tril == 0, float('-inf'))\n",
    "        scores = F.softmax(scores, dim=1)\n",
    "        scores = self.dropout(scores)\n",
    "        out = scores @ v\n",
    "        assert out.shape == (self.seq_len, self.head_size)\n",
    "        return out\n",
    "\n",
    "class FeedFoward(nn.Module):\n",
    "    def __init__(self, embedding_size):\n",
    "        super().__init__()\n",
    "        self.net = nn.Sequential(\n",
    "            nn.Linear(embedding_size, 4 * embedding_size),\n",
    "            nn.ReLU(),\n",
    "            nn.Linear(4 * embedding_size, embedding_size),\n",
    "            nn.Dropout(),\n",
    "        )\n",
    "\n",
    "    def forward(self, x):\n",
    "        out = self.net(x)\n",
    "        return out\n",
    "\n",
    "class MultiHead(nn.Module):\n",
    "    def __init__(self, embedding_size, n_heads, head_size, seq_len):\n",
    "        super().__init__()\n",
    "\n",
    "        self.heads = nn.ModuleList([Head(seq_len, embedding_size, head_size) for _ in range(n_heads)])\n",
    "        self.proj = nn.Linear(n_heads * head_size, embedding_size,bias=False)\n",
    "        self.ln1 = nn.LayerNorm(embedding_size)\n",
    "        self.ff = FeedFoward(embedding_size)\n",
    "        self.ln2 = nn.LayerNorm(embedding_size)\n",
    "    \n",
    "    def forward(self, x):\n",
    "        heads = [head(x) for head in self.heads]\n",
    "        out = torch.cat(heads, dim=1)\n",
    "        out = self.proj(out)\n",
    "        out = x + out\n",
    "        out = self.ln1(out)\n",
    "        out = self.ff(out)\n",
    "        out = out + x\n",
    "        out = self.ln2(out)\n",
    "        return out\n",
    "\n",
    "class Transformer(nn.Module):\n",
    "    def __init__(self,params):\n",
    "        super().__init__()\n",
    "        vocab_size = params['vocab_size']\n",
    "        embedding_size = params['embedding_size']\n",
    "        n_heads = params['n_heads']\n",
    "        head_size = params['head_size']\n",
    "        n_layers = params['n_layers']\n",
    "        seq_len = params['seq_len']\n",
    "        self.seq_len = params['seq_len']\n",
    "\n",
    "        self.embedding = nn.Embedding(vocab_size, embedding_size)\n",
    "        self.position_embedding_table = nn.Embedding(seq_len, embedding_size)\n",
    "        self.attn_blocks = [MultiHead(embedding_size, n_heads, head_size,seq_len) for _ in range(n_layers)]\n",
    "        self.vocab_proj = nn.Linear(embedding_size, vocab_size)\n",
    "\n",
    "    def forward(self, x):\n",
    "        embedded = self.embedding(x)\n",
    "        pos_emb = self.position_embedding_table(torch.arange(self.seq_len))\n",
    "        x = embedded + pos_emb\n",
    "        for block in self.attn_blocks:\n",
    "            x = block(x)\n",
    "        x = self.vocab_proj(x)\n",
    "        return x\n",
    "\n",
    "    def generate(self):\n",
    "        x = torch.zeros(self.seq_len, dtype=torch.long)\n",
    "        text = ''\n",
    "        for i in range(50):\n",
    "            out = self.forward(x)\n",
    "            out = out[-1]\n",
    "            out = out.softmax(dim=0)\n",
    "            #multinomial sampling\n",
    "            idx = torch.multinomial(out, num_samples=1)\n",
    "            x = torch.cat([x[1:], idx])\n",
    "            c = t_to_c[idx.item()]\n",
    "            text += c\n",
    "        return text\n",
    "\n",
    "    \n",
    "    def train_model(\n",
    "        self,\n",
    "        p: Dict[str, Any]\n",
    "    ):\n",
    "        # train_loader = DataLoader(p['train_dataset'], batch_size=p['batch_size'], shuffle=True)\n",
    "        optimizer = p['optimizer'](self.parameters(), lr=p['lr'])\n",
    "        scheduler = p['scheduler'](optimizer,patience=p['patience'])\n",
    "        loss_fn = p['loss_fn']\n",
    "\n",
    "        accumulated_loss = 0.0\n",
    "        losses = []\n",
    "\n",
    "        # Warmup Phase\n",
    "        if p['warmup_steps'] is not None:\n",
    "            print(\"Starting warmup\")\n",
    "            for param_group in optimizer.param_groups:\n",
    "                param_group['lr'] = 0.01 * p['lr']\n",
    "            for i, (x, y) in enumerate(p['train_dataset']):\n",
    "                if i >= p['warmup_steps']:\n",
    "                    break\n",
    "                out = self(x)\n",
    "                loss = loss_fn(out, y)\n",
    "                loss.backward()\n",
    "                accumulated_loss += loss.item()\n",
    "                if (i + 1) % p['gradient_accumulation_steps'] == 0:\n",
    "                    optimizer.step()\n",
    "                    accumulated_loss = 0.0\n",
    "                    optimizer.zero_grad()\n",
    "            print(\"Finished warmup\")\n",
    "            for param_group in optimizer.param_groups:\n",
    "                param_group['lr'] = p['lr']\n",
    "            \n",
    "        accumulated_loss = 0.0\n",
    "        for epoch in range(p['epochs']):\n",
    "            for i, (x, y) in enumerate(p['train_dataset']):\n",
    "\n",
    "                out = self(x)\n",
    "                loss = loss_fn(out, y)\n",
    "                loss.backward()\n",
    "                accumulated_loss += loss.item()\n",
    "\n",
    "                # Ensuring that batch_size and gradient_accumulation_steps line up\n",
    "                if (i + 1) % p['gradient_accumulation_steps'] == 0:\n",
    "                    optimizer.step()\n",
    "                    avg_loss = accumulated_loss / p['gradient_accumulation_steps']\n",
    "                    losses.append(avg_loss)\n",
    "                    accumulated_loss = 0.0\n",
    "                    optimizer.zero_grad()\n",
    "                    scheduler.step(avg_loss)\n",
    "\n",
    "                if (i + 1) % 1000 == 0:\n",
    "                    print(\"Average loss:\", avg_loss)\n",
    "                    print(f\"percent complete: {(i+1)/len(p['train_dataset']) * 100:.2f}%\")\n",
    "                    print(self.generate())\n",
    "                if i > 2000:\n",
    "                    break\n",
    "            print(f\"Epoch {epoch} complete\")\n",
    "        return losses\n",
    "    \n",
    "    def train_model_profile(self, p: Dict[str, Any]):\n",
    "        with profile(activities=[ProfilerActivity.CPU, ProfilerActivity.CUDA], record_shapes=True) as prof:\n",
    "            with record_function(\"model_training\"):\n",
    "                losses = self.train_model(p)\n",
    "        return losses, prof"
   ]
  },
  {
   "cell_type": "code",
   "execution_count": 16,
   "metadata": {},
   "outputs": [
    {
     "name": "stderr",
     "output_type": "stream",
     "text": [
      "Repo card metadata block was not found. Setting CardData to empty.\n"
     ]
    }
   ],
   "source": [
    "tinystories_dataset = load_dataset(\"roneneldan/TinyStories\")\n",
    "tinystories_dataset = tinystories_dataset['train']['text']\n",
    "    \n",
    "class SlidingWindowDataset(Dataset):\n",
    "    def __init__(self, stories: list, seq_len: int):\n",
    "        super(SlidingWindowDataset, self).__init__()\n",
    "        self.seq_len = seq_len\n",
    "        self.stories = ' '.join([s for s in stories[:10000]])\n",
    "        self.tokenized_data = [c_to_t[c.lower()] for c in self.stories if c.lower() in characters]\n",
    "\n",
    "    def __len__(self) -> int:\n",
    "        # Adjust the length so that the last data point has at least seq_len elements remaining\n",
    "        return len(self.tokenized_data) - 2 * self.seq_len + 1\n",
    "\n",
    "    def __getitem__(self, idx: int) -> Tuple[torch.Tensor, torch.Tensor]:\n",
    "        # Calculate the ending index for x and y\n",
    "        end_idx_x = idx + self.seq_len\n",
    "        end_idx_y = idx + 1 + self.seq_len\n",
    "\n",
    "        # Get the actual data\n",
    "        x_data = self.tokenized_data[idx: end_idx_x]\n",
    "        y_data = self.tokenized_data[idx + 1: end_idx_y]\n",
    "        \n",
    "        # Pad if necessary\n",
    "        x_data += [0] * (self.seq_len - len(x_data))\n",
    "        y_data += [0] * (self.seq_len - len(y_data))\n",
    "        \n",
    "        # Convert to tensors\n",
    "        x = torch.tensor(x_data, dtype=torch.long)\n",
    "        y = torch.tensor(y_data, dtype=torch.long)\n",
    "        \n",
    "        assert len(x) == len(y) == self.seq_len\n",
    "        return x, y"
   ]
  },
  {
   "cell_type": "code",
   "execution_count": 17,
   "metadata": {},
   "outputs": [],
   "source": [
    "model_params = {\n",
    "    'vocab_size': len(characters),\n",
    "    'seq_len': 50,\n",
    "    'embedding_size': 256,\n",
    "    'n_heads': 8,\n",
    "    'head_size': 32,\n",
    "    'n_layers': 4, # transformer blocks\n",
    "}\n",
    "assert model_params['embedding_size'] / model_params['n_heads'] == model_params['head_size']\n",
    "\n",
    "model = Transformer(model_params)\n",
    "\n",
    "train_params = {\n",
    "    'epochs': 6,\n",
    "    'gradient_accumulation_steps': 1,\n",
    "    'warmup_steps': 1000,\n",
    "    'lr': 0.001,\n",
    "    'lr_scheduler': None,\n",
    "    'batch_size': 32,\n",
    "    'train_dataset': SlidingWindowDataset(tinystories_dataset, model_params['seq_len']),\n",
    "    'optimizer': torch.optim.Adam,\n",
    "    'loss_fn': nn.CrossEntropyLoss(),\n",
    "    'scheduler': torch.optim.lr_scheduler.ReduceLROnPlateau,\n",
    "    'patience': 5,\n",
    "}\n",
    "\n"
   ]
  },
  {
   "cell_type": "code",
   "execution_count": 18,
   "metadata": {},
   "outputs": [
    {
     "data": {
      "text/plain": [
       "'ewdfyf jrpjrtprcukbpjnhkfvqjnwcfrkfrthujrvxstecjhw'"
      ]
     },
     "execution_count": 18,
     "metadata": {},
     "output_type": "execute_result"
    }
   ],
   "source": [
    "model.generate()"
   ]
  },
  {
   "cell_type": "code",
   "execution_count": 19,
   "metadata": {},
   "outputs": [
    {
     "name": "stdout",
     "output_type": "stream",
     "text": [
      "Starting warmup\n",
      "Finished warmup\n",
      "Average loss: 2.4978575706481934\n",
      "percent complete: 0.01%\n",
      "amroumjjqrndrrm a wsy acomhw z kn qjfx rlezomggled\n",
      "Average loss: 2.785243034362793\n",
      "percent complete: 0.02%\n",
      "ze d h dtxfdte wyoufpjtv anwf swa sjplmpxwr kshed \n",
      "Epoch 0 complete\n",
      "Average loss: 2.404512643814087\n",
      "percent complete: 0.01%\n",
      "vln wrl ir  r ed uwyzeasd lmed tper s iyhhcts sh a\n",
      "Average loss: 2.7579262256622314\n",
      "percent complete: 0.02%\n",
      "krrro knedrnkgkaftnkzqqxwci it nt nacn nun ordjymg\n",
      "Epoch 1 complete\n",
      "Average loss: 2.551711320877075\n",
      "percent complete: 0.01%\n",
      "alephedanir ikuo r noedgcylpqhikhed s r iwhtkohedm\n",
      "Average loss: 2.793362617492676\n",
      "percent complete: 0.02%\n",
      "he wreoudxly phezd ned tny ns nyglerofqiliz d ko t\n",
      "Epoch 2 complete\n",
      "Average loss: 2.496868848800659\n",
      "percent complete: 0.01%\n",
      "l vvhknfywl hgply na n rcfn iyiqkhmiy namlyftlybre\n",
      "Average loss: 2.7518415451049805\n",
      "percent complete: 0.02%\n",
      "ayzaun fungedoommed g nly iyo r ndnmbcplen sw nybh\n",
      "Epoch 3 complete\n",
      "Average loss: 2.445382833480835\n",
      "percent complete: 0.01%\n",
      "k gqhrwlm aanswek lefdouneuecujheewhkngesewwer kzy\n",
      "Average loss: 2.8067615032196045\n",
      "percent complete: 0.02%\n",
      "afnnyxxxg  iterejnedmzedlwqganfxedfahaooocwn leomn\n",
      "Epoch 4 complete\n",
      "Average loss: 2.4964864253997803\n",
      "percent complete: 0.01%\n",
      "na uoxsamaavnfd ed rend ilerl na neeherrzj uwrllyn\n",
      "Average loss: 2.8092806339263916\n",
      "percent complete: 0.02%\n",
      "ledndly ante lzaaroke hey fuewukeackwf yvolhrckov \n",
      "Epoch 5 complete\n"
     ]
    }
   ],
   "source": [
    "losses = model.train_model(train_params)"
   ]
  },
  {
   "cell_type": "code",
   "execution_count": 20,
   "metadata": {},
   "outputs": [
    {
     "data": {
      "image/png": "[encoded data removed]",
      "text/plain": [
       "<Figure size 640x480 with 1 Axes>"
      ]
     },
     "metadata": {},
     "output_type": "display_data"
    }
   ],
   "source": [
    "plt.plot(losses)\n",
    "plt.show()"
   ]
  },
  {
   "cell_type": "code",
   "execution_count": null,
   "metadata": {},
   "outputs": [],
   "source": []
  }
 ],
 "metadata": {
  "kernelspec": {
   "display_name": "venv",
   "language": "python",
   "name": "python3"
  },
  "language_info": {
   "codemirror_mode": {
    "name": "ipython",
    "version": 3
   },
   "file_extension": ".py",
   "mimetype": "text/x-python",
   "name": "python",
   "nbconvert_exporter": "python",
   "pygments_lexer": "ipython3",
   "version": "3.10.12"
  }
 },
 "nbformat": 4,
 "nbformat_minor": 2
}
